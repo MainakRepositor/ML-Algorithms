{
  "nbformat": 4,
  "nbformat_minor": 0,
  "metadata": {
    "colab": {
      "name": "Cross Validation",
      "provenance": [],
      "authorship_tag": "ABX9TyPNcczlzbzN0tnEgo+ZVJXT",
      "include_colab_link": true
    },
    "kernelspec": {
      "name": "python3",
      "display_name": "Python 3"
    },
    "language_info": {
      "name": "python"
    }
  },
  "cells": [
    {
      "cell_type": "markdown",
      "metadata": {
        "id": "view-in-github",
        "colab_type": "text"
      },
      "source": [
        "<a href=\"https://colab.research.google.com/github/MainakRepositor/ML-Algorithms/blob/master/Cross_Validation.ipynb\" target=\"_parent\"><img src=\"https://colab.research.google.com/assets/colab-badge.svg\" alt=\"Open In Colab\"/></a>"
      ]
    },
    {
      "cell_type": "markdown",
      "metadata": {
        "id": "sr0xh0FZ1SDI"
      },
      "source": [
        "WHAT IS CROSS-VALIDATION?\n",
        "\n",
        "METHODS OF CROSS-VALIDATION\n",
        "\n",
        "1) VALIDATION\n",
        "\n",
        "2) LOOCV (LEAVE ONE OUT CROSS-VALIDATION)\n",
        "\n",
        "3) K-FOLD CROSS-VALIDATION\n",
        "\n",
        "4) STRATIFIED CROSS-VALIDATION\n",
        "\n",
        "5) ADVERSARIAL VALIDATION\n",
        "\n",
        "ADVANTAGES OF CROSS-VALIDATION\n",
        "\n",
        "IMPORTING LIBRARIES\n",
        "\n",
        "DATA INSPECTION\n",
        "\n",
        "HOLD-OUT VALIDATION APPROACH\n",
        "\n",
        "LEAVE ONE OUT VALIDATION\n",
        "\n",
        "K-FOLD CROSS VALIDATION APPROACH\n",
        "\n",
        "STRATIFIED K-FOLD CROSS VALIDATION APPROACH\n",
        "\n",
        "SHUFFLE SPLIT APPROACH\n",
        "\n",
        "CLOSING COMMENTS"
      ]
    },
    {
      "cell_type": "markdown",
      "metadata": {
        "id": "a8_GQHbo1gLS"
      },
      "source": [
        "### What is Cross Validation\n",
        "\n",
        "Cross-validation is a technique in which we train our model using the subset of the data-set and then evaluate using the complementary subset of the data-set.\n",
        "\n",
        "Does this definition sound familiar to what you do \"train_test_split\"? You must be thinking if we have a parameter already for evaluation why do we need Cross-validation?\n",
        "\n",
        "Well here is the catch! In train-test-split you keep aside (70%,80%) of data for training and remaining for testing the model, but what if the data points that can bring some pattern is in test dataset and you end up losing it? Also when you split the data with some random_state and calculate the accuracy or any other metric it changes with change in random_state, in this case how would you decide what's the maximum and minimum accuracy,error your model produce?\n",
        "\n",
        "There comes Cross-validation as our Saviour. Wonder how?\n",
        "\n",
        "Cross-validation starts by shuffling the data (to prevent any unintentional ordering errors) and splitting it into k folds. Then k models are fit on k−1 of the data (called the training split) and evaluated on 1/k of the data (called the test split). The results from each evaluation are averaged together for a final score, then the final model is fit on the entire dataset for operationalization.\n",
        "\n",
        "This way there's no leaving out any part of dataset covering all trends!"
      ]
    },
    {
      "cell_type": "markdown",
      "metadata": {
        "id": "z31H5A9y1omE"
      },
      "source": [
        "## Methods of Cross Validation\n",
        "\n",
        "### 1) VALIDATION\n",
        "In this method, we perform training on the 50% of the given data-set and rest 50% is used for the testing purpose. The major drawback of this method is that we perform training on the 50% of the dataset, it may possible that the remaining 50% of the data contains some important information which we are leaving while training our model i.e higher bias.\n",
        "\n",
        "\n",
        "### 2) LOOCV (LEAVE ONE OUT CROSS-VALIDATION)\n",
        "In this method, we perform training on the whole data-set but leaves only one data-point of the available data-set and then iterates for each data-point. Suppose you have 1000 records in your dataset and in this method you leave out one data point and use the rest 999 records for validation. In this way the validation is run for 1000 times and what if you have millions of records? Would you run million times? That's practically impossible!\n",
        "\n",
        "An advantage of using this method is that we make use of all data points and hence it is low bias. The major drawback of this method is that it leads to higher variation in the testing model as we are testing against one data point. If the data point is an outlier it can lead to higher variation. Another drawback is it takes a lot of execution time as it iterates over ‘the number of data points’ times.\n",
        "\n",
        "From the above two validation methods, we’ve learnt:\n",
        "\n",
        "We should train the model on a large portion of the dataset. Otherwise we’ll fail to read and recognise the underlying trend in the data. This will eventually result in a higher bias.\n",
        "\n",
        "We also need a good ratio of testing data points. As we have seen above, less amount of data points can lead to a variance error while testing the effectiveness of the model.\n",
        "\n",
        "We should iterate on the training and testing process multiple times. We should change the train and test dataset distribution. This helps in validating the model effectiveness properly.\n",
        "\n",
        "Do we have a method which takes care of all these 3 requirements?\n",
        "\n",
        "\n",
        "### 3) K-FOLD CROSS-VALIDATION\n",
        "Yes! That method is known as “k-fold cross validation”.\n",
        "\n",
        "It’s easy to follow and implement. Below are the steps for it:\n",
        "\n",
        "Randomly split your entire dataset into \"kfolds\".\n",
        "For each k-fold in your dataset, build your model on k – 1 folds of the dataset. Then, test the model to check the effectiveness for kth fold.\n",
        "Record the error you see on each of the predictions.\n",
        "Repeat this until each of the k-folds has served as the test set.\n",
        "The average of your k recorded errors is called the cross-validation error and will serve as your performance metric for the model.\n",
        "Now you might wonder what could be the way to decide the value of k?\n",
        "\n",
        "Well let me tell you there's no thumb rule for choosing the value of k and it completel depends on size of your dataset. However k=10 is considered to be ideal value as more than 10 would really take longer to validate.\n",
        "\n",
        "Higher the value of K leads to LOOCV approach where you will incure high computation costs.\n",
        "\n",
        "Lower value of K leads to validation approach where you will lose the important data.\n",
        "\n",
        "\n",
        "### 4) STRATIFIED CROSS-VALIDATION\n",
        "Stratification is the process of rearranging the data so as to ensure that each fold is a good representative of the whole. For example, in a binary classification if our target labels are imbalanced,it is advisory to arrange the data such that in every fold, each class comprises of about half the instances. If this is not covered, the model learns only to predict the majority label and when unseen data is fed it will predict only majority label which might deteriorate model's predictions.\n",
        "\n",
        "\n",
        "### 5) ADVERSARIAL VALIDATION\n",
        "Many data science competitions suffer from a test set being markedly different from a training set (a violation of the “identically distributed” assumption). It is then difficult to make a representative validation set. As a result, the internal cross-validation techniques might give scores that are not even in the ballpark of the test score. In such cases, adversarial validation offers an ideal solution.\n",
        "\n",
        "The general idea is to check the degree of similarity between training and tests in terms of feature distribution. If It does not seem to be the case, we can suspect they are quite different. This intuition can be quantified by combining train and test sets, assigning 0/1 labels (0 – train, 1-test) and evaluating a binary classification task. Specifically, we’ll run the distinguishing classifier in cross-validation mode, to get predictions for all training examples. Then we’ll see which training examples are misclassified as test and use them for validation.\n",
        "\n",
        "To be more precise, we’ll choose a number of misclassified examples that the model was most certain about. It means that they look like test examples but in reality are training examples. Cross-validation provides predictions for all the training points. Now we’d like to sort the training points by their estimated probability of being test examples. We did the ascending sort, so for validation we take a desired number of examples from the end. We will note that if differences between models in validation are pretty slim."
      ]
    },
    {
      "cell_type": "code",
      "metadata": {
        "id": "M5ROlHpz1c9J"
      },
      "source": [
        "import pandas as pd\n",
        "import numpy as np \n",
        "import matplotlib.pyplot as plt\n",
        "import sklearn\n",
        "import warnings\n",
        "warnings.filterwarnings('ignore')\n",
        "# Import necessary modules\n",
        "from sklearn.model_selection import train_test_split\n",
        "from sklearn.metrics import mean_squared_error\n",
        "from math import sqrt\n",
        "from sklearn import model_selection\n",
        "from sklearn.linear_model import LogisticRegression\n",
        "from sklearn.model_selection import KFold\n",
        "from sklearn.model_selection import cross_val_score\n",
        "from sklearn.model_selection import LeaveOneOut\n",
        "from sklearn.model_selection import LeavePOut\n",
        "from sklearn.model_selection import ShuffleSplit\n",
        "from sklearn.model_selection import StratifiedKFold\n",
        "from yellowbrick.model_selection import cv_scores\n",
        "from yellowbrick.model_selection import CVScores"
      ],
      "execution_count": 1,
      "outputs": []
    },
    {
      "cell_type": "code",
      "metadata": {
        "colab": {
          "base_uri": "https://localhost:8080/",
          "height": 206
        },
        "id": "f6tHVfRb1ESk",
        "outputId": "55ece023-c912-40a9-e7d5-9a3cd8e11500"
      },
      "source": [
        "url = 'https://raw.githubusercontent.com/MainakRepositor/Datasets-/master/diabetes.csv'\n",
        "data = pd.read_csv(url,error_bad_lines=False)\n",
        "data.head()"
      ],
      "execution_count": 2,
      "outputs": [
        {
          "output_type": "execute_result",
          "data": {
            "text/html": [
              "<div>\n",
              "<style scoped>\n",
              "    .dataframe tbody tr th:only-of-type {\n",
              "        vertical-align: middle;\n",
              "    }\n",
              "\n",
              "    .dataframe tbody tr th {\n",
              "        vertical-align: top;\n",
              "    }\n",
              "\n",
              "    .dataframe thead th {\n",
              "        text-align: right;\n",
              "    }\n",
              "</style>\n",
              "<table border=\"1\" class=\"dataframe\">\n",
              "  <thead>\n",
              "    <tr style=\"text-align: right;\">\n",
              "      <th></th>\n",
              "      <th>Pregnancies</th>\n",
              "      <th>Glucose</th>\n",
              "      <th>BloodPressure</th>\n",
              "      <th>SkinThickness</th>\n",
              "      <th>Insulin</th>\n",
              "      <th>BMI</th>\n",
              "      <th>DiabetesPedigreeFunction</th>\n",
              "      <th>Age</th>\n",
              "      <th>Outcome</th>\n",
              "    </tr>\n",
              "  </thead>\n",
              "  <tbody>\n",
              "    <tr>\n",
              "      <th>0</th>\n",
              "      <td>6</td>\n",
              "      <td>148</td>\n",
              "      <td>72</td>\n",
              "      <td>35</td>\n",
              "      <td>0</td>\n",
              "      <td>33.6</td>\n",
              "      <td>0.627</td>\n",
              "      <td>50</td>\n",
              "      <td>1</td>\n",
              "    </tr>\n",
              "    <tr>\n",
              "      <th>1</th>\n",
              "      <td>1</td>\n",
              "      <td>85</td>\n",
              "      <td>66</td>\n",
              "      <td>29</td>\n",
              "      <td>0</td>\n",
              "      <td>26.6</td>\n",
              "      <td>0.351</td>\n",
              "      <td>31</td>\n",
              "      <td>0</td>\n",
              "    </tr>\n",
              "    <tr>\n",
              "      <th>2</th>\n",
              "      <td>8</td>\n",
              "      <td>183</td>\n",
              "      <td>64</td>\n",
              "      <td>0</td>\n",
              "      <td>0</td>\n",
              "      <td>23.3</td>\n",
              "      <td>0.672</td>\n",
              "      <td>32</td>\n",
              "      <td>1</td>\n",
              "    </tr>\n",
              "    <tr>\n",
              "      <th>3</th>\n",
              "      <td>1</td>\n",
              "      <td>89</td>\n",
              "      <td>66</td>\n",
              "      <td>23</td>\n",
              "      <td>94</td>\n",
              "      <td>28.1</td>\n",
              "      <td>0.167</td>\n",
              "      <td>21</td>\n",
              "      <td>0</td>\n",
              "    </tr>\n",
              "    <tr>\n",
              "      <th>4</th>\n",
              "      <td>0</td>\n",
              "      <td>137</td>\n",
              "      <td>40</td>\n",
              "      <td>35</td>\n",
              "      <td>168</td>\n",
              "      <td>43.1</td>\n",
              "      <td>2.288</td>\n",
              "      <td>33</td>\n",
              "      <td>1</td>\n",
              "    </tr>\n",
              "  </tbody>\n",
              "</table>\n",
              "</div>"
            ],
            "text/plain": [
              "   Pregnancies  Glucose  BloodPressure  ...  DiabetesPedigreeFunction  Age  Outcome\n",
              "0            6      148             72  ...                     0.627   50        1\n",
              "1            1       85             66  ...                     0.351   31        0\n",
              "2            8      183             64  ...                     0.672   32        1\n",
              "3            1       89             66  ...                     0.167   21        0\n",
              "4            0      137             40  ...                     2.288   33        1\n",
              "\n",
              "[5 rows x 9 columns]"
            ]
          },
          "metadata": {},
          "execution_count": 2
        }
      ]
    },
    {
      "cell_type": "markdown",
      "metadata": {
        "id": "6M2WORAJ2dmG"
      },
      "source": [
        "### Hold-Out CV"
      ]
    },
    {
      "cell_type": "code",
      "metadata": {
        "id": "hhvYM1Ac2QkE"
      },
      "source": [
        "x1 = data.drop('Outcome', axis=1).values \n",
        "y1 = data['Outcome'].values"
      ],
      "execution_count": 3,
      "outputs": []
    },
    {
      "cell_type": "code",
      "metadata": {
        "colab": {
          "base_uri": "https://localhost:8080/"
        },
        "id": "ONCs4BRR2TrA",
        "outputId": "53f61997-5e2b-4590-d019-3b272a103038"
      },
      "source": [
        "X_train, X_test, Y_train, Y_test = model_selection.train_test_split(x1, y1, test_size=0.30, random_state=100)\n",
        "model = LogisticRegression()\n",
        "model.fit(X_train, Y_train)\n",
        "result = model.score(X_test, Y_test)\n",
        "print(\"Accuracy: %.2f%%\" % (result*100.0))"
      ],
      "execution_count": 4,
      "outputs": [
        {
          "output_type": "stream",
          "name": "stdout",
          "text": [
            "Accuracy: 75.32%\n"
          ]
        }
      ]
    },
    {
      "cell_type": "code",
      "metadata": {
        "colab": {
          "base_uri": "https://localhost:8080/"
        },
        "id": "RDNREPL-2WT9",
        "outputId": "fc11f16b-9440-4b3d-9a80-b03cf86ee60c"
      },
      "source": [
        "X_train, X_test, Y_train, Y_test = model_selection.train_test_split(x1, y1, test_size=0.30, random_state=22)\n",
        "model = LogisticRegression()\n",
        "model.fit(X_train, Y_train)\n",
        "result = model.score(X_test, Y_test)\n",
        "print(\"Accuracy: %.2f%%\" % (result*100.0))"
      ],
      "execution_count": 5,
      "outputs": [
        {
          "output_type": "stream",
          "name": "stdout",
          "text": [
            "Accuracy: 77.06%\n"
          ]
        }
      ]
    },
    {
      "cell_type": "markdown",
      "metadata": {
        "id": "_IY1apfr2gp0"
      },
      "source": [
        "### LOOCV"
      ]
    },
    {
      "cell_type": "code",
      "metadata": {
        "colab": {
          "base_uri": "https://localhost:8080/"
        },
        "id": "MDKSc71z2YiD",
        "outputId": "5052f3e5-c25f-4341-9a32-ec99e55a0c24"
      },
      "source": [
        "loocv = LeaveOneOut()\n",
        "model_loocv = LogisticRegression()\n",
        "results_loocv = cross_val_score(model_loocv, x1, y1, cv=loocv)\n",
        "print(\"Accuracy: %.2f%%\" % (results_loocv.mean()*100.0))"
      ],
      "execution_count": 6,
      "outputs": [
        {
          "output_type": "stream",
          "name": "stdout",
          "text": [
            "Accuracy: 77.86%\n"
          ]
        }
      ]
    },
    {
      "cell_type": "code",
      "metadata": {
        "colab": {
          "base_uri": "https://localhost:8080/"
        },
        "id": "DO3sPSNA2iqT",
        "outputId": "b7dd2d00-75cd-4b35-dffd-c3b79b022f13"
      },
      "source": [
        "X_train, X_test, Y_train, Y_test = model_selection.train_test_split(x1, y1, test_size=0.30, random_state=22)\n",
        "model = LogisticRegression()\n",
        "model.fit(X_train, Y_train)\n",
        "result = model.score(X_test, Y_test)\n",
        "print(\"Accuracy: %.2f%%\" % (result*100.0))"
      ],
      "execution_count": 7,
      "outputs": [
        {
          "output_type": "stream",
          "name": "stdout",
          "text": [
            "Accuracy: 77.06%\n"
          ]
        }
      ]
    },
    {
      "cell_type": "markdown",
      "metadata": {
        "id": "S_k8Vtyr2vBl"
      },
      "source": [
        "### KFold CV"
      ]
    },
    {
      "cell_type": "code",
      "metadata": {
        "colab": {
          "base_uri": "https://localhost:8080/"
        },
        "id": "P7lb8DpY2okN",
        "outputId": "7462aea1-fafc-47cb-fb6d-6ccb27e4d7bb"
      },
      "source": [
        "for k in range(2,11):\n",
        "\n",
        "    kfold = KFold(n_splits=k, random_state=100)\n",
        "    model_kfold = LogisticRegression()\n",
        "    results_kfold = model_selection.cross_val_score(model_kfold, x1, y1, cv=kfold)\n",
        "    print(\"Accuracy: %.2f%%\" % (results_kfold.mean()*100.0)) "
      ],
      "execution_count": 8,
      "outputs": [
        {
          "output_type": "stream",
          "name": "stdout",
          "text": [
            "Accuracy: 76.69%\n",
            "Accuracy: 77.21%\n",
            "Accuracy: 77.60%\n",
            "Accuracy: 77.22%\n",
            "Accuracy: 76.95%\n",
            "Accuracy: 76.96%\n",
            "Accuracy: 77.60%\n",
            "Accuracy: 77.60%\n",
            "Accuracy: 77.34%\n"
          ]
        }
      ]
    },
    {
      "cell_type": "code",
      "metadata": {
        "colab": {
          "base_uri": "https://localhost:8080/",
          "height": 294
        },
        "id": "XegJQ6IW2xD6",
        "outputId": "9c84fffc-8d48-4dfe-fe56-987c6e032d8c"
      },
      "source": [
        "# Create a cross-validation strategy\n",
        "cv = KFold(n_splits=10, random_state=100)\n",
        "\n",
        "# Instantiate the classification model and visualizer\n",
        "model = LogisticRegression()\n",
        "\n",
        "# Fit the data to the visualizer\n",
        "visualizer = cv_scores(model, x1, y1, cv=cv, scoring='accuracy')"
      ],
      "execution_count": 9,
      "outputs": [
        {
          "output_type": "display_data",
          "data": {
            "image/png": "[encoded data removed]",
            "text/plain": [
              "<Figure size 432x288 with 1 Axes>"
            ]
          },
          "metadata": {
            "needs_background": "light"
          }
        }
      ]
    },
    {
      "cell_type": "code",
      "metadata": {
        "colab": {
          "base_uri": "https://localhost:8080/"
        },
        "id": "cEx3Z6vt20hI",
        "outputId": "a56cd4e2-ec4a-49ff-aded-da913a31e8a7"
      },
      "source": [
        "# Stratified K-Fold CV\n",
        "for k in range(2,11):\n",
        "\n",
        "    skfold = StratifiedKFold(n_splits=k, random_state=100)\n",
        "    model_skfold = LogisticRegression()\n",
        "    results_skfold = cross_val_score(model_skfold, x1, y1, cv=skfold)\n",
        "\n",
        "    print(\"Accuracy: %.2f%%\" % (results_skfold.mean()*100.0))"
      ],
      "execution_count": 10,
      "outputs": [
        {
          "output_type": "stream",
          "name": "stdout",
          "text": [
            "Accuracy: 76.82%\n",
            "Accuracy: 77.34%\n",
            "Accuracy: 76.95%\n",
            "Accuracy: 76.96%\n",
            "Accuracy: 76.82%\n",
            "Accuracy: 77.87%\n",
            "Accuracy: 77.47%\n",
            "Accuracy: 77.22%\n",
            "Accuracy: 77.61%\n"
          ]
        }
      ]
    },
    {
      "cell_type": "markdown",
      "metadata": {
        "id": "EV5UW8413jkp"
      },
      "source": [
        "### Shuffle Split Approach"
      ]
    },
    {
      "cell_type": "code",
      "metadata": {
        "colab": {
          "base_uri": "https://localhost:8080/"
        },
        "id": "xHCnZr6q26qV",
        "outputId": "e389c41a-35f7-4de6-f25b-6bd490258270"
      },
      "source": [
        "for k in range(2,11):\n",
        "\n",
        "    kfold2 = ShuffleSplit(n_splits=k, test_size=0.30, random_state=100)\n",
        "    model_shufflecv = LogisticRegression()\n",
        "    results_4 = model_selection.cross_val_score(model_shufflecv, x1, y1, cv=kfold2)\n",
        "    print(\"Accuracy: %.2f%% (%.2f%%)\" % (results_4.mean()*100.0, results_4.std()*100.0))"
      ],
      "execution_count": 16,
      "outputs": [
        {
          "output_type": "stream",
          "name": "stdout",
          "text": [
            "Accuracy: 76.84% (1.52%)\n",
            "Accuracy: 77.78% (1.81%)\n",
            "Accuracy: 78.14% (1.69%)\n",
            "Accuracy: 77.40% (2.11%)\n",
            "Accuracy: 77.20% (1.98%)\n",
            "Accuracy: 76.38% (2.73%)\n",
            "Accuracy: 76.19% (2.60%)\n",
            "Accuracy: 75.61% (2.94%)\n",
            "Accuracy: 75.45% (2.83%)\n"
          ]
        }
      ]
    },
    {
      "cell_type": "code",
      "metadata": {
        "id": "0A64bm_I3l8k"
      },
      "source": [
        ""
      ],
      "execution_count": null,
      "outputs": []
    }
  ]
}